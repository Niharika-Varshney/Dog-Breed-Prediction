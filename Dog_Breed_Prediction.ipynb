{
  "cells": [
    {
      "cell_type": "markdown",
      "metadata": {
        "id": "view-in-github",
        "colab_type": "text"
      },
      "source": [
        "<a href=\"https://colab.research.google.com/github/Niharika-Varshney/Dog-Breed-Prediction/blob/main/Dog_Breed_Prediction.ipynb\" target=\"_parent\"><img src=\"https://colab.research.google.com/assets/colab-badge.svg\" alt=\"Open In Colab\"/></a>"
      ]
    },
    {
      "cell_type": "code",
      "execution_count": null,
      "metadata": {
        "id": "vTodV1Hx0pRF"
      },
      "outputs": [],
      "source": [
        "import tensorflow as tf\n",
        "import tensorflow_hub as hub\n",
        "import pandas as pd\n",
        "import numpy as np\n",
        "import os"
      ]
    },
    {
      "cell_type": "code",
      "execution_count": null,
      "metadata": {
        "id": "i3JUIfYwTs63"
      },
      "outputs": [],
      "source": [
        "from google.colab import drive\n",
        "drive.mount('/content/drive')"
      ]
    },
    {
      "cell_type": "code",
      "execution_count": null,
      "metadata": {
        "id": "6GhMPCGuVa1J"
      },
      "outputs": [],
      "source": [
        "print(\"available\"if tf.config.list_physical_devices(\"GPU\")else \"not\")"
      ]
    },
    {
      "cell_type": "code",
      "execution_count": null,
      "metadata": {
        "id": "smvCp4weWfny"
      },
      "outputs": [],
      "source": [
        "labels_csv=pd.read_csv(\"/content/drive/MyDrive/Dog Vision/labels.csv\")"
      ]
    },
    {
      "cell_type": "code",
      "execution_count": null,
      "metadata": {
        "id": "GYil2pOMW3d3"
      },
      "outputs": [],
      "source": [
        "print(labels_csv.describe())"
      ]
    },
    {
      "cell_type": "code",
      "execution_count": null,
      "metadata": {
        "id": "EHLfXxQGW_T5"
      },
      "outputs": [],
      "source": [
        "labels_csv.head()"
      ]
    },
    {
      "cell_type": "code",
      "execution_count": null,
      "metadata": {
        "id": "fHMGymexXHei"
      },
      "outputs": [],
      "source": [
        "labels_csv[\"breed\"].value_counts()"
      ]
    },
    {
      "cell_type": "code",
      "execution_count": null,
      "metadata": {
        "id": "xgbo15--XJOt"
      },
      "outputs": [],
      "source": [
        "labels_csv[\"breed\"].value_counts().plot.bar(figsize=(20,10))"
      ]
    },
    {
      "cell_type": "code",
      "execution_count": null,
      "metadata": {
        "id": "UUw6D_qIXLXn"
      },
      "outputs": [],
      "source": [
        "labels_csv[\"breed\"].value_counts().median()"
      ]
    },
    {
      "cell_type": "code",
      "execution_count": null,
      "metadata": {
        "id": "9LAJgsjXXNb7"
      },
      "outputs": [],
      "source": [
        "labels_csv[\"breed\"].value_counts().mean()"
      ]
    },
    {
      "cell_type": "code",
      "execution_count": null,
      "metadata": {
        "id": "RXJd05FKXOqb"
      },
      "outputs": [],
      "source": [
        "from IPython.display import Image\n",
        "Image(\"/content/drive/MyDrive/Dog Vision/train/000bec180eb18c7604dcecc8fe0dba07.jpg\")"
      ]
    },
    {
      "cell_type": "code",
      "execution_count": null,
      "metadata": {
        "id": "tFNJAAGTXQVe"
      },
      "outputs": [],
      "source": [
        "filenames=[i for i in labels_csv[\"id\"]]\n",
        "filenames[:10]"
      ]
    },
    {
      "cell_type": "code",
      "execution_count": null,
      "metadata": {
        "id": "zurduQepXvOr"
      },
      "outputs": [],
      "source": [
        "list2=[\"/content/drive/MyDrive/Dog Vision/train/\"+ i +\".jpg\"for i in labels_csv[\"id\"]]\n",
        "list2[:10]"
      ]
    },
    {
      "cell_type": "code",
      "execution_count": null,
      "metadata": {
        "id": "Ru18_7SJX2Zw"
      },
      "outputs": [],
      "source": [
        "\n",
        "if len(os.listdir(\"/content/drive/MyDrive/Dog Vision/train\"))==len(filenames):\n",
        "    print(\"yes\")\n",
        "else:\n",
        "    print(\"No\")"
      ]
    },
    {
      "cell_type": "code",
      "execution_count": null,
      "metadata": {
        "id": "J5zUKAoeX-TT"
      },
      "outputs": [],
      "source": [
        "#now i can just enter any index and it will print the image using list2\n",
        "Image(list2[4456])"
      ]
    },
    {
      "cell_type": "code",
      "execution_count": null,
      "metadata": {
        "id": "8btuHHqxYBbl"
      },
      "outputs": [],
      "source": [
        "labels_csv[\"breed\"]"
      ]
    },
    {
      "cell_type": "code",
      "execution_count": null,
      "metadata": {
        "id": "QXNiqZnPYFRx"
      },
      "outputs": [],
      "source": [
        "labels_csv[\"id\"]"
      ]
    },
    {
      "cell_type": "markdown",
      "metadata": {
        "id": "9BjecbGQYK0S"
      },
      "source": [
        "as we can see in above two cells that the datatypes are object we need to convert them to int i.e. numeric"
      ]
    },
    {
      "cell_type": "code",
      "execution_count": null,
      "metadata": {
        "id": "fJuKlTSVYLfz"
      },
      "outputs": [],
      "source": [
        "labels1=np.array(labels_csv)\n",
        "labels1"
      ]
    },
    {
      "cell_type": "code",
      "execution_count": null,
      "metadata": {
        "id": "PFiudbzQYNza"
      },
      "outputs": [],
      "source": [
        "labels2=np.array(labels_csv[\"breed\"])\n",
        "#labels2=labels[\"breed\"].to_numpy()    (does same thing as above)\n",
        "labels2"
      ]
    },
    {
      "cell_type": "code",
      "execution_count": null,
      "metadata": {
        "id": "wIiQS0T8YPml"
      },
      "outputs": [],
      "source": [
        "len(labels2)"
      ]
    },
    {
      "cell_type": "code",
      "execution_count": null,
      "metadata": {
        "id": "3-voWbnBYREK"
      },
      "outputs": [],
      "source": [
        "len(filenames)"
      ]
    },
    {
      "cell_type": "code",
      "execution_count": null,
      "metadata": {
        "id": "-7PaKxYcYSSu"
      },
      "outputs": [],
      "source": [
        "uni=np.unique(labels2)\n",
        "uni"
      ]
    },
    {
      "cell_type": "code",
      "execution_count": null,
      "metadata": {
        "id": "d6qdt8OWYTqt"
      },
      "outputs": [],
      "source": [
        "len(uni)"
      ]
    },
    {
      "cell_type": "code",
      "execution_count": null,
      "metadata": {
        "id": "jfozPjLeYW3v"
      },
      "outputs": [],
      "source": [
        "\n",
        "#for example humne compare kiya boston_bull se toh ab jha bhi boston_bull hoga wha true aaega else false\n",
        "print(labels2[0])\n",
        "labels2[0]==uni"
      ]
    },
    {
      "cell_type": "code",
      "execution_count": null,
      "metadata": {
        "id": "GNQUAbP6YYe4"
      },
      "outputs": [],
      "source": [
        "#now we are turning each label to a boolean array\n",
        "boolean_labels= [i==uni for i in labels2]\n",
        "len(boolean_labels)"
      ]
    },
    {
      "cell_type": "code",
      "execution_count": null,
      "metadata": {
        "id": "XoEMtaSEYaWc"
      },
      "outputs": [],
      "source": [
        "boolean_labels[:2]"
      ]
    },
    {
      "cell_type": "code",
      "execution_count": null,
      "metadata": {
        "id": "XzFQbi2dYbjj"
      },
      "outputs": [],
      "source": [
        "len(labels2)"
      ]
    },
    {
      "cell_type": "code",
      "execution_count": null,
      "metadata": {
        "id": "FEWocNisYdXZ"
      },
      "outputs": [],
      "source": [
        "len(boolean_labels)"
      ]
    },
    {
      "cell_type": "code",
      "execution_count": null,
      "metadata": {
        "id": "uygSpl0XYeWD"
      },
      "outputs": [],
      "source": [
        "#now we are turning boolean arrays we get above to integers\n",
        "\n",
        "print(labels2[0])#to see which original value we have\n",
        "print(np.where(uni==labels2[0]))#index where true occurs\n",
        "print(boolean_labels[0].argmax())#index where true iccurs in boolean array\n",
        "print(boolean_labels[0].astype(int))#to print an integer array...where 1 will be true for true else 0"
      ]
    },
    {
      "cell_type": "code",
      "execution_count": null,
      "metadata": {
        "id": "sALQsWYNYf6f"
      },
      "outputs": [],
      "source": [
        "print(boolean_labels[4].astype(int))"
      ]
    },
    {
      "cell_type": "code",
      "execution_count": null,
      "metadata": {
        "id": "-wz0WBSNYhM6"
      },
      "outputs": [],
      "source": [
        "filenames[:4]"
      ]
    },
    {
      "cell_type": "markdown",
      "metadata": {
        "id": "qE9ApzmiYj4s"
      },
      "source": [
        "Kaggle doen not provide validation set so we are going to make validation set"
      ]
    },
    {
      "cell_type": "code",
      "execution_count": null,
      "metadata": {
        "id": "GP0hi9EqYks9"
      },
      "outputs": [],
      "source": [
        "#for making validation set we will create x and y\n",
        "X=list2\n",
        "y=boolean_labels"
      ]
    },
    {
      "cell_type": "code",
      "execution_count": null,
      "metadata": {
        "id": "zQE1EtJLYl43"
      },
      "outputs": [],
      "source": [
        "#set the number of images to use for experimenting\n",
        "#we set the number of images bcoz the data is very very large\n",
        "NUM_IMAGES=1000 #@param {type:\"slider\",mix:100,max:1000}"
      ]
    },
    {
      "cell_type": "code",
      "execution_count": null,
      "metadata": {
        "id": "A5d5PD8kYnVI"
      },
      "outputs": [],
      "source": [
        "#splitting the data into two parts i.e train set and validaton set\n",
        "from sklearn.model_selection import train_test_split\n",
        "#split them into training and validation of total size NUM_IMAGES\n",
        "X_train,X_val,y_train,y_val=train_test_split(X[:NUM_IMAGES],\n",
        "                                            y[:NUM_IMAGES],\n",
        "                                            test_size=0.2,\n",
        "                                            random_state=42)\n",
        "len(X_train),len(y_train),len(X_val),len(y_val)\n"
      ]
    },
    {
      "cell_type": "code",
      "execution_count": null,
      "metadata": {
        "id": "jCm2SZ1lYt2j"
      },
      "outputs": [],
      "source": [
        "X_train[:3]"
      ]
    },
    {
      "cell_type": "code",
      "execution_count": null,
      "metadata": {
        "id": "nHU5M83LYvlm"
      },
      "outputs": [],
      "source": [
        "y_train[:3]"
      ]
    },
    {
      "cell_type": "code",
      "execution_count": null,
      "metadata": {
        "id": "aqG-2ghlYxH9"
      },
      "outputs": [],
      "source": [
        "X_val[:3]"
      ]
    },
    {
      "cell_type": "code",
      "execution_count": null,
      "metadata": {
        "id": "FBMjIAbqYzbZ"
      },
      "outputs": [],
      "source": [
        "y_val[:3]"
      ]
    },
    {
      "cell_type": "code",
      "execution_count": null,
      "metadata": {
        "id": "BQ1y2FW_Y0ki"
      },
      "outputs": [],
      "source": [
        "from matplotlib.pyplot import imread\n",
        "#imread read an image from a file into an array\n",
        "image1=imread(\"/content/drive/MyDrive/Dog Vision/test/35fb3b47f33d4711c68bbd8667573b89.jpg\")\n",
        "image1.shape\n"
      ]
    },
    {
      "cell_type": "code",
      "execution_count": null,
      "metadata": {
        "id": "ngjHZs5gY7s7"
      },
      "outputs": [],
      "source": [
        "image1"
      ]
    },
    {
      "cell_type": "code",
      "execution_count": null,
      "metadata": {
        "id": "UApk3zpDZHcB"
      },
      "outputs": [],
      "source": [
        "#this tells the range of rcb pixels of the image\n",
        "image1.max(),image1.min()"
      ]
    },
    {
      "cell_type": "code",
      "execution_count": null,
      "metadata": {
        "id": "XxLh_hHIZJAA"
      },
      "outputs": [],
      "source": [
        "# from matplotlib.pyplot import imread\n",
        "# #imread read an image from a file into an array\n",
        "# image=imread(list2[42])\n",
        "# image.shape\n"
      ]
    },
    {
      "cell_type": "code",
      "execution_count": null,
      "metadata": {
        "id": "hvtfPE16ZLab"
      },
      "outputs": [],
      "source": [
        "#the output of this tells us how an image looks like a tensor\n",
        "tf.constant(image1)"
      ]
    },
    {
      "cell_type": "code",
      "execution_count": null,
      "metadata": {
        "id": "s0M4a1W-ZMto"
      },
      "outputs": [],
      "source": [
        "#define image size\n",
        "IMG_SIZE=224\n",
        "\n",
        "#create a function to process images\n",
        "def process_image(image_path):\n",
        "    #read in an image file\n",
        "    image=tf.io.read_file(image_path)\n",
        "    #turn the jpeg imgage into numerical tensors with 3 colour channels{rgb}\n",
        "    image=tf.image.decode_jpeg(image,channels=3)#channels=3 because of rgb\n",
        "    #convert the colour channel values from 0 to255 to 0-1 values  ....this process is called normalization\n",
        "    image=tf.image.convert_image_dtype(image,tf.float32)\n",
        "    #resize the image\n",
        "    image=tf.image.resize(image,size=[IMG_SIZE,IMG_SIZE])\n",
        "    return image\n",
        "\n"
      ]
    },
    {
      "cell_type": "code",
      "execution_count": null,
      "metadata": {
        "id": "UqLHDc4SZOlk"
      },
      "outputs": [],
      "source": [
        "t=tf.io.read_file(list2[34])\n",
        "#this will produce a bunch of characters i.e. tensors"
      ]
    },
    {
      "cell_type": "code",
      "execution_count": null,
      "metadata": {
        "id": "vQZh7GL4ZQFV"
      },
      "outputs": [],
      "source": [
        "\n",
        "t=tf.image.decode_jpeg(t,channels=3)\n",
        "t"
      ]
    },
    {
      "cell_type": "code",
      "execution_count": null,
      "metadata": {
        "id": "gFvgjZtxZRge"
      },
      "outputs": [],
      "source": [
        "tf.image.convert_image_dtype(t,tf.float32)"
      ]
    },
    {
      "cell_type": "code",
      "execution_count": null,
      "metadata": {
        "id": "la5Oo8CYZTh5"
      },
      "outputs": [],
      "source": [
        "print(process_image(list2[34]))\n"
      ]
    },
    {
      "cell_type": "code",
      "execution_count": null,
      "metadata": {
        "id": "rR1bC5tMZVdq"
      },
      "outputs": [],
      "source": [
        "def get_image_label(image_path,label):\n",
        "    image=process_image(image_path)\n",
        "    return image,label"
      ]
    },
    {
      "cell_type": "code",
      "execution_count": null,
      "metadata": {
        "id": "B6f-m11QZW9b"
      },
      "outputs": [],
      "source": [
        "print(get_image_label(list2[34],5))"
      ]
    },
    {
      "cell_type": "code",
      "execution_count": null,
      "metadata": {
        "id": "Dp2-C1IHZYEO"
      },
      "outputs": [],
      "source": [
        "process_image(list2[34])"
      ]
    },
    {
      "cell_type": "code",
      "execution_count": null,
      "metadata": {
        "id": "HQ_tShpgZaLd"
      },
      "outputs": [],
      "source": [
        "tf.constant(list2[34])\n",
        "#this is not producing any output bcoz list2[34] is a image path\n"
      ]
    },
    {
      "cell_type": "code",
      "execution_count": null,
      "metadata": {
        "id": "nnV0f7p8Zb2m"
      },
      "outputs": [],
      "source": [
        "list2[34]"
      ]
    },
    {
      "cell_type": "code",
      "execution_count": null,
      "metadata": {
        "id": "ItKEhDKpZdJB"
      },
      "outputs": [],
      "source": [
        "(process_image(X[34]),y[34])"
      ]
    },
    {
      "cell_type": "code",
      "execution_count": null,
      "metadata": {
        "id": "Cmuc65ZIZeQD"
      },
      "outputs": [],
      "source": [
        "(process_image(X[34]),tf.constant(y[34]))"
      ]
    },
    {
      "cell_type": "code",
      "execution_count": null,
      "metadata": {
        "id": "RKrLk3cRZgAO"
      },
      "outputs": [],
      "source": [
        "BATCH_SIZE=32\n",
        "#create a function to turn data into batches\n",
        "def create_data_batches(X,y=None,batch_size=BATCH_SIZE,valid_data=False,test_data=False):\n",
        "    \"\"\"\n",
        "    creates batches of data out of image (X) and label (y) pairs\n",
        "    accepts test data as input(now y can be none bcoz test data has no labels)\n",
        "    shuffles the data if it's a training data\n",
        "    but does not shuffle if it's a validation data\n",
        "\n",
        "    \"\"\"\n",
        "\n",
        "    #if the data is a test dataset\n",
        "    #do not have labels\n",
        "    #do not shuffle\n",
        "    if test_data:\n",
        "        print(\"creating test data batches....\")\n",
        "        data=tf.data.Dataset.from_tensor_slices(tf.constant(X))#only filepaths no labels\n",
        "        #X here is file paths ....so when using tf.constant(X) it turns X into tensors\n",
        "        data_batch=data.map(process_image).batch(BATCH_SIZE)\n",
        "        return data_batch\n",
        "    #if the data is a valid dataset\n",
        "    #validation set has labels\n",
        "    #we wont shuffle\n",
        "    elif valid_data:\n",
        "        print(\"creating valid data batches....\")\n",
        "        data=tf.data.Dataset.from_tensor_slices((tf.constant(X),\n",
        "                                                 tf.constant(y)))\n",
        "        data_batch=data.map(get_image_label).batch(BATCH_SIZE)\n",
        "        return data_batch\n",
        "    #if the data is training dataset\n",
        "    #we will shuffle dataset\n",
        "    #has labels\n",
        "    else:\n",
        "        print(\"creating training data batches....\")\n",
        "        data=tf.data.Dataset.from_tensor_slices((tf.constant(X),\n",
        "                                                 tf.constant(y)))\n",
        "        #shuffling pathnames and labels before mapping into processor function is fater than shuffling images\n",
        "        data=data.shuffle(buffer_size=len(X))\n",
        "\n",
        "        data_batch=data.map(get_image_label).batch(BATCH_SIZE)\n",
        "        return data_batch\n",
        "\n",
        "\n",
        "\n",
        "\n",
        "\n",
        "\n",
        "\n"
      ]
    },
    {
      "cell_type": "code",
      "execution_count": null,
      "metadata": {
        "id": "0gMZqqJmZh5X"
      },
      "outputs": [],
      "source": [
        "train_data=create_data_batches(X_train,y_train)\n",
        "val_data=create_data_batches(X_val,y_val,valid_data=True)"
      ]
    },
    {
      "cell_type": "code",
      "execution_count": null,
      "metadata": {
        "id": "Tf6-Os_1ZjsW"
      },
      "outputs": [],
      "source": [
        "#will produce specifications/attributes of our data batches\n",
        "#first line for X second line for y\n",
        "#we have none for batch size in output bcoz batch size is flexible\n",
        "train_data.element_spec"
      ]
    },
    {
      "cell_type": "code",
      "execution_count": null,
      "metadata": {
        "id": "nUeRiJhrZlYd"
      },
      "outputs": [],
      "source": [
        "data=tf.data.Dataset.from_tensor_slices((tf.constant(X),tf.constant(y)))\n",
        "data"
      ]
    },
    {
      "cell_type": "code",
      "execution_count": null,
      "metadata": {
        "id": "6_hi9TckZm6_"
      },
      "outputs": [],
      "source": [
        "data=data.shuffle(buffer_size=len(X))\n",
        "data"
      ]
    },
    {
      "cell_type": "markdown",
      "metadata": {
        "id": "Z97R33L1Z7PY"
      },
      "source": [
        "visualising data batches"
      ]
    },
    {
      "cell_type": "code",
      "execution_count": null,
      "metadata": {
        "id": "ltHPJmKqZ7xB"
      },
      "outputs": [],
      "source": [
        "import matplotlib.pyplot as plt\n",
        "#create a function to view images in a data batch\n",
        "def show_25_images(images,labels):\n",
        "    \"\"\"\n",
        "    displays a plot of 25 images from a data batch\n",
        "    \"\"\"\n",
        "    plt.figure(figsize=(10,10))\n",
        "    for i in range(25):\n",
        "        ax=plt.subplot(5,5,i+1)\n",
        "        #imshow() display data as an image\n",
        "        plt.imshow(images[i])\n",
        "        #add the image label as the title\n",
        "        plt.title(uni[labels[i].argmax()])\n",
        "        plt.axis(\"off\")\n",
        "\n",
        "\n",
        "\n",
        "\n"
      ]
    },
    {
      "cell_type": "code",
      "execution_count": null,
      "metadata": {
        "id": "gPAOo_f5Z87H"
      },
      "outputs": [],
      "source": [
        "uni[y[23].argmax()],y[23].argmax()"
      ]
    },
    {
      "cell_type": "code",
      "execution_count": null,
      "metadata": {
        "id": "GCMAlDT1Z-Rt"
      },
      "outputs": [],
      "source": [
        "train_data\n",
        "#this is a batch\n",
        "#now to visualize our data we need to unbatch the data which is done by the\n",
        "#method in the next block"
      ]
    },
    {
      "cell_type": "code",
      "execution_count": null,
      "metadata": {
        "id": "o-qkPvYHZ_Y8"
      },
      "outputs": [],
      "source": [
        "train_images,train_labels=next(train_data.as_numpy_iterator())\n",
        "train_images,train_labels\n"
      ]
    },
    {
      "cell_type": "code",
      "execution_count": null,
      "metadata": {
        "id": "4FIQdByfaCPq"
      },
      "outputs": [],
      "source": [
        "len(train_images),len(train_labels)\n",
        "#bcoz batch size is 32\n"
      ]
    },
    {
      "cell_type": "code",
      "execution_count": null,
      "metadata": {
        "id": "kIk-KF0haE_Y"
      },
      "outputs": [],
      "source": [
        "show_25_images(train_images,train_labels)\n",
        "#this shows our data of train batch"
      ]
    },
    {
      "cell_type": "code",
      "execution_count": null,
      "metadata": {
        "id": "2CLvRhG6aGA9"
      },
      "outputs": [],
      "source": [
        "val_images,val_labels=next(val_data.as_numpy_iterator())\n",
        "show_25_images(val_images,val_labels)\n",
        "#this shows our data of validation batch\n"
      ]
    },
    {
      "cell_type": "code",
      "execution_count": null,
      "metadata": {
        "id": "VEyYVppfaIdl"
      },
      "outputs": [],
      "source": [
        "# Setup input shape to the model\n",
        "INPUT_SHAPE = [None, IMG_SIZE, IMG_SIZE, 3] # batch, height, width, colour channels\n",
        "\n",
        "# Setup output shape of the model\n",
        "OUTPUT_SHAPE = len(uni) # number of unique labels\n",
        "\n",
        "# Setup model URL from TensorFlow Hub\n",
        "MODEL_URL = \"https://tfhub.dev/google/imagenet/mobilenet_v2_130_224/classification/4\"\n",
        "# Create a function which builds a Keras model\n",
        "def create_model(input_shape=INPUT_SHAPE, output_shape=OUTPUT_SHAPE, model_url=MODEL_URL):\n",
        "  print(\"Building model with:\", MODEL_URL)\n",
        "\n",
        "  # Setup the model layers\n",
        "  model = tf.keras.Sequential([\n",
        "    hub.KerasLayer(MODEL_URL), # Layer 1 (input layer)\n",
        "    tf.keras.layers.Dense(units=OUTPUT_SHAPE,\n",
        "                          activation=\"softmax\") # Layer 2 (output layer)\n",
        "  ])\n",
        "\n",
        "  # Compile the model\n",
        "  model.compile(\n",
        "      loss=tf.keras.losses.CategoricalCrossentropy(), # Our model wants to reduce this (how wrong its guesses are)\n",
        "      optimizer=tf.keras.optimizers.Adam(), # A friend telling our model how to improve its guesses\n",
        "      metrics=[\"accuracy\"] # We'd like this to go up\n",
        "  )\n",
        "\n",
        "  # Build the model\n",
        "  model.build(INPUT_SHAPE) # Let the model know what kind of inputs it'll be getting\n",
        "\n",
        "  return model"
      ]
    },
    {
      "cell_type": "code",
      "execution_count": null,
      "metadata": {
        "id": "7t3Yya8laPRj"
      },
      "outputs": [],
      "source": [
        "\n",
        "model = create_model()\n",
        "model.summary()"
      ]
    },
    {
      "cell_type": "code",
      "execution_count": null,
      "metadata": {
        "id": "_ddGD1z5atzX"
      },
      "outputs": [],
      "source": [
        "%load_ext tensorboard\n",
        "import datetime\n",
        "def create_tensorboard_callback():\n",
        "    logdir=os.path.join(\"/content/drive/MyDrive/Dog Vision/log\",\n",
        "                        datetime.datetime.now().strftime(\"%Y%m%d-%H%M%S\"))\n",
        "\n",
        "    return tf.keras.callbacks.TensorBoard(logdir)\n"
      ]
    },
    {
      "cell_type": "code",
      "execution_count": null,
      "metadata": {
        "id": "u1JwxSiGa7J1"
      },
      "outputs": [],
      "source": [
        "early_stopping=tf.keras.callbacks.EarlyStopping(monitor=\"val_accuracy\",patience=3)"
      ]
    },
    {
      "cell_type": "code",
      "execution_count": null,
      "metadata": {
        "id": "U3V0Kpafa8w_"
      },
      "outputs": [],
      "source": [
        "NUM_EPOCHS=30 #@param {type:\"slider\",min:10,max:100,step:10}"
      ]
    },
    {
      "cell_type": "code",
      "execution_count": null,
      "metadata": {
        "id": "R9eMHdCDa-hI"
      },
      "outputs": [],
      "source": [
        "def train_model():\n",
        "    model=create_model()\n",
        "    tensorboard=create_tensorboard_callback()\n",
        "    model.fit(x=train_data,\n",
        "              epochs=NUM_EPOCHS,\n",
        "              validation_data=val_data,\n",
        "              validation_freq=1,\n",
        "              callbacks=[tensorboard,early_stopping])\n",
        "    return model\n",
        "\n"
      ]
    },
    {
      "cell_type": "code",
      "execution_count": null,
      "metadata": {
        "id": "TIEriAcYa_9E"
      },
      "outputs": [],
      "source": [
        "model=train_model()\n",
        "\n",
        "#800 images in taining set and batch size is 32 800/32=25"
      ]
    },
    {
      "cell_type": "code",
      "execution_count": null,
      "metadata": {
        "id": "9nRAPNhrbB_P"
      },
      "outputs": [],
      "source": [
        "%tensorboard --logdir '/content/drive/MyDrive/Dog Vision/log'\n"
      ]
    },
    {
      "cell_type": "code",
      "execution_count": null,
      "metadata": {
        "id": "Lz5Me7S8bGyJ"
      },
      "outputs": [],
      "source": [
        "predictions=model.predict(val_data,verbose=1)\n",
        "predictions"
      ]
    },
    {
      "cell_type": "code",
      "execution_count": null,
      "metadata": {
        "id": "91SZx_wSbKjz"
      },
      "outputs": [],
      "source": [
        "predictions.shape\n",
        "#200 refers to y_val 120 refers to length of unique breeds"
      ]
    },
    {
      "cell_type": "code",
      "execution_count": null,
      "metadata": {
        "id": "JV6Lc2qnbMKT"
      },
      "outputs": [],
      "source": [
        "len(predictions[0]),len(predictions[1])"
      ]
    },
    {
      "cell_type": "code",
      "execution_count": null,
      "metadata": {
        "id": "hlCA9nQibNqt"
      },
      "outputs": [],
      "source": [
        "predictions[0]\n",
        "#gives probability value for every single layer\n",
        "#each value of the output  is called confidence interval"
      ]
    },
    {
      "cell_type": "code",
      "execution_count": null,
      "metadata": {
        "id": "egY2aFdTbRTN"
      },
      "outputs": [],
      "source": [
        "np.sum(predictions[0])"
      ]
    },
    {
      "cell_type": "code",
      "execution_count": null,
      "metadata": {
        "id": "ArVsdmHCbThx"
      },
      "outputs": [],
      "source": [
        "predictions[0].max(),predictions[0].min()"
      ]
    },
    {
      "cell_type": "code",
      "execution_count": null,
      "metadata": {
        "id": "1Ir5P9anbZ94"
      },
      "outputs": [],
      "source": [
        "index=43\n",
        "predictions[index]\n",
        "print(f\"Max value (probability of prediction): {np.max(predictions[index])}\") # the max probability value predicted by the model\n",
        "print(f\"Sum: {np.sum(predictions[index])}\") # because we used softmax activation in our model, this will be close to 1\n",
        "print(f\"Max index: {np.argmax(predictions[index])}\") # the index of where the max value in predictions[0] occurs\n",
        "print(f\"Predicted label: {uni[np.argmax(predictions[index])]}\") # the predicted label"
      ]
    },
    {
      "cell_type": "code",
      "execution_count": null,
      "metadata": {
        "id": "eJAzBjFpbb4i"
      },
      "outputs": [],
      "source": [
        "#print(f\"Predicted label: {uni[np.argmax(predictions[index])]}\") # the predicted label\n",
        "#jo kaam yahan upar kiya tha whi kr rhe\n",
        "def get_pred_label(prediction_probabilities):\n",
        "    return uni[np.argmax(prediction_probabilities)]"
      ]
    },
    {
      "cell_type": "code",
      "execution_count": null,
      "metadata": {
        "id": "QmF9w6Ggbdd4"
      },
      "outputs": [],
      "source": [
        "get_pred_label(predictions[0])"
      ]
    },
    {
      "cell_type": "code",
      "execution_count": null,
      "metadata": {
        "id": "HoZ5IyhxPDqY"
      },
      "outputs": [],
      "source": [
        "\n",
        "def unbatchify(data):\n",
        "    images_=[]\n",
        "    labels_=[]\n",
        "    for image,label in data.unbatch().as_numpy_iterator():\n",
        "        images_.append(image)\n",
        "#     print(image)\n",
        "#     print(label)\n",
        "\n",
        "        labels_.append(label)\n",
        "    return images_,labels_\n"
      ]
    },
    {
      "cell_type": "code",
      "execution_count": null,
      "metadata": {
        "id": "1ovXr6UuPEF9"
      },
      "outputs": [],
      "source": [
        "images_,labels_=unbatchify(val_data)\n",
        "images_[43]\n",
        "labels_[43]"
      ]
    },
    {
      "cell_type": "code",
      "execution_count": null,
      "metadata": {
        "id": "1NU1m1kePFcZ"
      },
      "outputs": [],
      "source": [
        "get_pred_label(labels_[43])"
      ]
    },
    {
      "cell_type": "code",
      "execution_count": null,
      "metadata": {
        "id": "WFzDGN1YPG9A"
      },
      "outputs": [],
      "source": [
        "get_pred_label(predictions[43])"
      ]
    },
    {
      "cell_type": "code",
      "execution_count": null,
      "metadata": {
        "id": "61LLWn_RPICX"
      },
      "outputs": [],
      "source": [
        "##VISUAL1\n",
        "def plot_pred(prediction_probabilities,labels,images,n):\n",
        "    pred_prob,truth_label,image=prediction_probabilities[n],labels[n],images[n]\n",
        "    pred_label=get_pred_label(pred_prob)\n",
        "    true_label=get_pred_label(truth_label)\n",
        "    plt.imshow(image)\n",
        "\n",
        "    plt.xticks([])\n",
        "    plt.yticks([])\n",
        "\n",
        "    if pred_label==true_label:\n",
        "        color=\"green\"\n",
        "    else:\n",
        "        color=\"red\"\n",
        "    plt.title(\"{}{:2.0f}%{}\".format(pred_label,\n",
        "                                    np.max(pred_prob)*100,\n",
        "                                    true_label),\n",
        "                                   color=color)\n",
        "\n",
        "\n",
        "\n",
        "\n",
        "\n"
      ]
    },
    {
      "cell_type": "code",
      "execution_count": null,
      "metadata": {
        "id": "Uzqlia06PJnl"
      },
      "outputs": [],
      "source": [
        "plot_pred(prediction_probabilities=predictions,labels=val_labels,images=val_images,n=19) #for 1 batch only value above 32 will throw an error"
      ]
    },
    {
      "cell_type": "code",
      "execution_count": null,
      "metadata": {
        "id": "gE1F_uvbPMb4"
      },
      "outputs": [],
      "source": [
        "##VISUAL2\n",
        "def plot_pred_conf(prediction_probabilities,labels,n):\n",
        "    pred_prob,true_label=prediction_probabilities[n],labels[n]\n",
        "    pred_label=get_pred_label(pred_prob)\n",
        "\n",
        "    top_10_pred_indexes=pred_prob.argsort()[-10:][::-1]\n",
        "    top_10_pred_values=pred_prob[top_10_pred_indexes]\n",
        "    top_10_pred_labels=uni[top_10_pred_indexes]\n",
        "    top_plot=plt.bar(np.arange(len(top_10_pred_labels)),top_10_pred_values,color=\"grey\")\n",
        "\n",
        "    plt.xticks(np.arange(len(top_10_pred_labels)),labels=top_10_pred_labels,rotation=\"vertical\")\n",
        "    if np.isin(true_label, top_10_pred_labels).any():\n",
        "      top_plot[np.argmax(top_10_pred_labels == true_label)].set_color(\"green\")\n",
        "    else:\n",
        "      pass\n",
        "\n",
        "\n",
        "\n",
        "\n",
        "\n",
        "\n",
        "\n"
      ]
    },
    {
      "cell_type": "code",
      "execution_count": null,
      "metadata": {
        "id": "0iaDggxyPQeO"
      },
      "outputs": [],
      "source": [
        "plot_pred_conf(prediction_probabilities=predictions,labels=val_labels,n=0)"
      ]
    },
    {
      "cell_type": "code",
      "execution_count": null,
      "metadata": {
        "id": "R-Iiih3HPR_5"
      },
      "outputs": [],
      "source": [
        "predictions[0].argsort()[-10:]\n"
      ]
    },
    {
      "cell_type": "code",
      "execution_count": null,
      "metadata": {
        "id": "UiJ1n0BQP7Z4"
      },
      "outputs": [],
      "source": [
        "predictions[0].argmax(),predictions[0].argmin()"
      ]
    },
    {
      "cell_type": "code",
      "execution_count": null,
      "metadata": {
        "id": "42-h4A6vQA4L"
      },
      "outputs": [],
      "source": [
        "##VISUAL3\n",
        "i_multiplier=0\n",
        "num_rows=5\n",
        "num_cols=2\n",
        "num_images=num_rows*num_cols\n",
        "plt.figure(figsize=(10*num_cols,5*num_rows))\n",
        "for i in range(num_images):\n",
        "    plt.subplot(num_rows,2*num_cols,2*i+1)\n",
        "    plot_pred(prediction_probabilities=predictions,\n",
        "             labels=val_labels,\n",
        "             images=val_images,\n",
        "             n=i+i_multiplier)\n",
        "\n",
        "    plt.subplot(num_rows,2*num_cols,2*i+2)\n",
        "    plot_pred_conf(prediction_probabilities=predictions,\n",
        "                  labels=val_labels,\n",
        "                  n=i+i_multiplier)\n",
        "plt.tight_layout(h_pad=1.0)\n",
        "\n",
        "plt.show()\n"
      ]
    },
    {
      "cell_type": "code",
      "execution_count": null,
      "metadata": {
        "id": "JP6KjhfuQCBl"
      },
      "outputs": [],
      "source": [
        "def save_model(model,suffix=None):\n",
        "    #create new_folder\n",
        "    modeldir=os.path.join(\"/content/drive/MyDrive/Dog Vision/models\",\n",
        "                         datetime.datetime.now().strftime(\"%Y%m%d-%H%M%s\"))\n",
        "    model_path=modeldir+\"-\"+suffix+\".h5\"\n",
        "    print(f\"saving model to {model_path}....\")\n",
        "    model.save(model_path)\n",
        "    return model_path\n",
        "\n"
      ]
    },
    {
      "cell_type": "code",
      "execution_count": null,
      "metadata": {
        "id": "4v0jH7roQLrP"
      },
      "outputs": [],
      "source": [
        "def load_model(model_path):\n",
        "  \"\"\"\n",
        "  Loads a saved model from a specified path.\n",
        "  \"\"\"\n",
        "  print(f\"Loading saved model from: {model_path}\")\n",
        "  model = tf.keras.models.load_model(model_path,\n",
        "                                     custom_objects={\"KerasLayer\":hub.KerasLayer})\n",
        "  return model"
      ]
    },
    {
      "cell_type": "code",
      "execution_count": null,
      "metadata": {
        "id": "SloPSiozQTn1"
      },
      "outputs": [],
      "source": [
        "save_model(model,suffix=\"1000-images-Adam\")"
      ]
    },
    {
      "cell_type": "code",
      "execution_count": null,
      "metadata": {
        "id": "3Ujcc1fMRCnZ"
      },
      "outputs": [],
      "source": [
        "load_1000_images_model=load_model('/content/drive/MyDrive/Dog Vision/models/20240530-02101717035018-1000-images-Adam.h5')"
      ]
    },
    {
      "cell_type": "markdown",
      "metadata": {
        "id": "WI5CqUtNTAdp"
      },
      "source": [
        "training the model on full data\n"
      ]
    },
    {
      "cell_type": "code",
      "execution_count": null,
      "metadata": {
        "id": "SRLRzFJBSyds"
      },
      "outputs": [],
      "source": [
        "#training data\n",
        "len(X),len(y)"
      ]
    },
    {
      "cell_type": "code",
      "execution_count": null,
      "metadata": {
        "id": "UhFcnluiTELO"
      },
      "outputs": [],
      "source": [
        "X[:5]"
      ]
    },
    {
      "cell_type": "code",
      "execution_count": null,
      "metadata": {
        "id": "6DvD955RTHkz"
      },
      "outputs": [],
      "source": [
        "y[:2]"
      ]
    },
    {
      "cell_type": "code",
      "execution_count": null,
      "metadata": {
        "id": "vu0Alo6-TKgI"
      },
      "outputs": [],
      "source": [
        "len(X_train),len(y_train),len(X_val),len(y_val)"
      ]
    },
    {
      "cell_type": "code",
      "execution_count": null,
      "metadata": {
        "id": "vgQFWrpETMMH"
      },
      "outputs": [],
      "source": [
        "#create a data  batch with the full dataset\n",
        "full_data=create_data_batches(X,y)\n"
      ]
    },
    {
      "cell_type": "code",
      "execution_count": null,
      "metadata": {
        "id": "XlFJAwjcTOI9"
      },
      "outputs": [],
      "source": [
        "full_data"
      ]
    },
    {
      "cell_type": "code",
      "execution_count": null,
      "metadata": {
        "id": "X_zna-4mTQBf"
      },
      "outputs": [],
      "source": [
        "\n",
        "full_model=create_model()"
      ]
    },
    {
      "cell_type": "code",
      "execution_count": null,
      "metadata": {
        "id": "Ql1cmqh7TRNJ"
      },
      "outputs": [],
      "source": [
        "full_model_tensorboard=create_tensorboard_callback()\n",
        "#no validation set when training on all the data so we cant monitor validation accuracy\n",
        "full_model_early_stopping=tf.keras.callbacks.EarlyStopping(monitor=\"accuracy\",patience=3)"
      ]
    },
    {
      "cell_type": "code",
      "execution_count": null,
      "metadata": {
        "id": "lSpAtACiTSsX"
      },
      "outputs": [],
      "source": [
        "full_model.fit(x=full_data,\n",
        "              epochs=NUM_EPOCHS,\n",
        "              callbacks=[full_model_tensorboard,full_model_early_stopping]\n",
        "              )"
      ]
    },
    {
      "cell_type": "code",
      "execution_count": null,
      "metadata": {
        "id": "bV9ApLltTT82"
      },
      "outputs": [],
      "source": [
        "test_path=\"/content/drive/MyDrive/Dog Vision/test/\"\n",
        "test_filenames=[test_path+fname for fname in os.listdir(test_path)]\n",
        "test_filenames[:10]"
      ]
    },
    {
      "cell_type": "code",
      "execution_count": null,
      "metadata": {
        "id": "gP3Sn7eOTeHq"
      },
      "outputs": [],
      "source": [
        "len(test_filenames)"
      ]
    },
    {
      "cell_type": "code",
      "execution_count": null,
      "metadata": {
        "id": "o_ArKH5QTkQv"
      },
      "outputs": [],
      "source": [
        "test_data=create_data_batches(test_filenames,test_data=True)"
      ]
    },
    {
      "cell_type": "code",
      "execution_count": null,
      "metadata": {
        "id": "LRPxh_gATn6j"
      },
      "outputs": [],
      "source": [
        "test_data"
      ]
    },
    {
      "cell_type": "code",
      "execution_count": null,
      "metadata": {
        "id": "gzUD65tWYLkz"
      },
      "outputs": [],
      "source": [
        "save_model(full_model,suffix=\"full-image-set\")"
      ]
    },
    {
      "cell_type": "code",
      "execution_count": null,
      "metadata": {
        "id": "SbQkX24GYRTt"
      },
      "outputs": [],
      "source": [
        "loaded_full_model=load_model(\"/content/drive/MyDrive/Dog Vision/models/20240530-02431717036980-full-image-set.h5\")\n"
      ]
    },
    {
      "cell_type": "code",
      "execution_count": null,
      "metadata": {
        "id": "-bSBvdcmYX3C"
      },
      "outputs": [],
      "source": [
        "test_predictions=loaded_full_model.predict(test_data,verbose=1)"
      ]
    },
    {
      "cell_type": "code",
      "execution_count": null,
      "metadata": {
        "id": "-bkbuH9TYudB"
      },
      "outputs": [],
      "source": [
        "#save predictions to numpy array to csv file\n",
        "np.savetxt(\"/content/drive/MyDrive/Dog Vision/preds_array.csv\",test_predictions,delimiter=\",\")"
      ]
    },
    {
      "cell_type": "code",
      "execution_count": null,
      "metadata": {
        "id": "_9mYS2Vsd7MC"
      },
      "outputs": [],
      "source": [
        "test_predictions1=np.loadtxt(\"/content/drive/MyDrive/Dog Vision/preds_array.csv\",delimiter=\",\")"
      ]
    },
    {
      "cell_type": "code",
      "execution_count": null,
      "metadata": {
        "id": "EcW3bPDreKee"
      },
      "outputs": [],
      "source": [
        "test_predictions[:2]"
      ]
    },
    {
      "cell_type": "code",
      "execution_count": null,
      "metadata": {
        "id": "7zGy6ZTSeUeT"
      },
      "outputs": [],
      "source": [
        "test_predictions1[:2]"
      ]
    },
    {
      "cell_type": "code",
      "execution_count": null,
      "metadata": {
        "id": "45uy8k8oeaNg"
      },
      "outputs": [],
      "source": [
        "#above two cells are same"
      ]
    },
    {
      "cell_type": "code",
      "execution_count": null,
      "metadata": {
        "id": "I5phm90AenHk"
      },
      "outputs": [],
      "source": [
        "test_predictions.shape"
      ]
    },
    {
      "cell_type": "code",
      "execution_count": null,
      "metadata": {
        "id": "RX5YjeZKeukD"
      },
      "outputs": [],
      "source": [
        "#preparring test data set for kaggle"
      ]
    },
    {
      "cell_type": "code",
      "execution_count": null,
      "metadata": {
        "id": "Kc-gMHZYe72S"
      },
      "outputs": [],
      "source": [
        "preds_df=pd.DataFrame(columns=[\"id\"]+list(uni))\n",
        "\n",
        "preds_df.head()"
      ]
    },
    {
      "cell_type": "code",
      "execution_count": null,
      "metadata": {
        "id": "wax5bUh0fW4W"
      },
      "outputs": [],
      "source": [
        "#append test image ids to predicted dataframe\n",
        "test_ids=[os.path.splitext(path)[0]for path in os.listdir(test_path)]\n"
      ]
    },
    {
      "cell_type": "code",
      "execution_count": null,
      "metadata": {
        "id": "j6Wk7ZwAf4AN"
      },
      "outputs": [],
      "source": [
        "test_ids[0]"
      ]
    },
    {
      "cell_type": "code",
      "execution_count": null,
      "metadata": {
        "id": "qDP7NBK2f--J"
      },
      "outputs": [],
      "source": [
        "preds_df[\"id\"]=test_ids"
      ]
    },
    {
      "cell_type": "code",
      "execution_count": null,
      "metadata": {
        "id": "xxjMecROgbsO"
      },
      "outputs": [],
      "source": [
        "preds_df.head()"
      ]
    },
    {
      "cell_type": "code",
      "execution_count": null,
      "metadata": {
        "id": "5rzb-bphgevS"
      },
      "outputs": [],
      "source": [
        "preds_df[list(uni)]=test_predictions1\n",
        "preds_df.head()"
      ]
    },
    {
      "cell_type": "code",
      "execution_count": null,
      "metadata": {
        "id": "3BpRGN1BguMP"
      },
      "outputs": [],
      "source": [
        "#save our predictions dataframe to csv\n",
        "preds_df.to_csv(\"/content/drive/MyDrive/Dog Vision/full_model_predictions_dog_1.csv\",index=False)"
      ]
    },
    {
      "cell_type": "markdown",
      "metadata": {
        "id": "eIItiQQfmNtw"
      },
      "source": [
        "predicting on custom images"
      ]
    },
    {
      "cell_type": "code",
      "execution_count": null,
      "metadata": {
        "id": "KQc7xRZNhCwn"
      },
      "outputs": [],
      "source": [
        "custom_path=\"/content/drive/MyDrive/Dog Vision/dog photos/\"\n",
        "custom_image_paths=[custom_path+fname for fname in os.listdir(custom_path)]"
      ]
    },
    {
      "cell_type": "code",
      "execution_count": null,
      "metadata": {
        "id": "vYlw2FkZkz-u"
      },
      "outputs": [],
      "source": [
        "custom_image_paths"
      ]
    },
    {
      "cell_type": "code",
      "execution_count": null,
      "metadata": {
        "id": "P9taGSemk31b"
      },
      "outputs": [],
      "source": [
        "custom_data=create_data_batches(custom_image_paths,test_data=True)\n",
        "custom_data"
      ]
    },
    {
      "cell_type": "code",
      "execution_count": null,
      "metadata": {
        "id": "MmLXGystlGyL"
      },
      "outputs": [],
      "source": [
        "custom_preds=loaded_full_model.predict(custom_data)"
      ]
    },
    {
      "cell_type": "code",
      "execution_count": null,
      "metadata": {
        "id": "2PGo34GUlPz5"
      },
      "outputs": [],
      "source": [
        "# custom_preds"
      ]
    },
    {
      "cell_type": "code",
      "execution_count": null,
      "metadata": {
        "id": "hE4cYohWlR4g"
      },
      "outputs": [],
      "source": [
        "custom_preds.shape"
      ]
    },
    {
      "cell_type": "code",
      "execution_count": null,
      "metadata": {
        "id": "oum1aQixlWDp"
      },
      "outputs": [],
      "source": [
        "custom_pred_labels=[get_pred_label(custom_preds[i])for i in range(len(custom_preds))]\n",
        "custom_pred_labels"
      ]
    },
    {
      "cell_type": "code",
      "execution_count": null,
      "metadata": {
        "id": "CesIax9PlpkB"
      },
      "outputs": [],
      "source": []
    }
  ],
  "metadata": {
    "accelerator": "GPU",
    "colab": {
      "gpuType": "T4",
      "provenance": [],
      "mount_file_id": "14MSmELngXTlVqz023LUnZPWLhzwrq8jQ",
      "authorship_tag": "ABX9TyPNv38sxSS68lzhSD5Y945U",
      "include_colab_link": true
    },
    "kernelspec": {
      "display_name": "Python 3",
      "name": "python3"
    },
    "language_info": {
      "name": "python"
    }
  },
  "nbformat": 4,
  "nbformat_minor": 0
}